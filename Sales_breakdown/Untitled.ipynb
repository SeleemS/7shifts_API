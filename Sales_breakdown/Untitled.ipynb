{
 "cells": [
  {
   "cell_type": "code",
   "execution_count": 8,
   "id": "f4f3a92d-3170-4cfe-89ee-09d7c09bb054",
   "metadata": {},
   "outputs": [],
   "source": [
    "import requests\n",
    "import pandas as pd\n",
    "\n",
    "url = \"https://api.7shifts.com/v2/company/163696/receipts?location_id=126664\"\n",
    "\n",
    "headers = {\n",
    "    \"accept\": \"application/json\",\n",
    "    \"authorization\": \"{bearer_token}\"\n",
    "}\n",
    "\n",
    "response = requests.get(url, headers=headers)\n",
    "\n",
    "# Check if the response status code is 200 (OK) before proceeding\n",
    "if response.status_code == 200:\n",
    "    data = response.json()  # Parse the JSON response\n",
    "    if 'data' in data:  # Check if the 'data' key is in the JSON response\n",
    "        df = pd.json_normalize(data['data'])  # Create a DataFrame from the 'data' key\n",
    "    else:\n",
    "        df = pd.DataFrame(data)  # If 'data' key is not present, create a DataFrame from the whole JSON\n",
    "\n",
    "    # Save the DataFrame to a CSV file\n",
    "    df.to_csv('response_data.csv', index=False)\n",
    "else:\n",
    "    print(f\"Failed to retrieve data. Status code: {response.status_code}\")\n"
   ]
  }
 ],
 "metadata": {
  "kernelspec": {
   "display_name": "Python 3 (ipykernel)",
   "language": "python",
   "name": "python3"
  },
  "language_info": {
   "codemirror_mode": {
    "name": "ipython",
    "version": 3
   },
   "file_extension": ".py",
   "mimetype": "text/x-python",
   "name": "python",
   "nbconvert_exporter": "python",
   "pygments_lexer": "ipython3",
   "version": "3.9.7"
  }
 },
 "nbformat": 4,
 "nbformat_minor": 5
}
